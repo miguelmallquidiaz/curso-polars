{
 "cells": [
  {
   "cell_type": "markdown",
   "metadata": {},
   "source": [
    "### Extraer"
   ]
  },
  {
   "cell_type": "code",
   "execution_count": null,
   "metadata": {},
   "outputs": [],
   "source": [
    "import polars as pl"
   ]
  },
  {
   "cell_type": "markdown",
   "metadata": {},
   "source": [
    "### Seleccionar los campos a utilizar"
   ]
  },
  {
   "cell_type": "code",
   "execution_count": 58,
   "metadata": {},
   "outputs": [],
   "source": [
    "matricula = (\n",
    "    pl.read_csv('./data/Matricula/peru_student_enrollment_data_2023.csv', separator=';')\n",
    "    .select(\n",
    "        pl.col('TUITION PAYMENT MARCH 2022').alias('payment_2022'),\n",
    "        pl.col('TUITION PAYMENT MARCH 2023').alias('payment_2023'),\n",
    "        pl.col('GENDER').alias('gender'),\n",
    "        pl.col('PROGRAM/MAJOR').alias('degree_program'),\n",
    "        pl.col('STUDY MODE').alias('study_mode'),\n",
    "        pl.col('NUMBER OF ENROLLED COURSES').alias('num_courses'),\n",
    "        pl.col('AT-RISK COURSE').alias('risk_course'),\n",
    "    )\n",
    ")"
   ]
  },
  {
   "cell_type": "code",
   "execution_count": 59,
   "metadata": {},
   "outputs": [
    {
     "data": {
      "text/html": [
       "<div><style>\n",
       ".dataframe > thead > tr,\n",
       ".dataframe > tbody > tr {\n",
       "  text-align: right;\n",
       "  white-space: pre-wrap;\n",
       "}\n",
       "</style>\n",
       "<small>shape: (5, 7)</small><table border=\"1\" class=\"dataframe\"><thead><tr><th>payment_2022</th><th>payment_2023</th><th>gender</th><th>degree_program</th><th>study_mode</th><th>num_courses</th><th>risk_course</th></tr><tr><td>i64</td><td>i64</td><td>str</td><td>str</td><td>str</td><td>i64</td><td>i64</td></tr></thead><tbody><tr><td>0</td><td>0</td><td>&quot;M&quot;</td><td>&quot;ING. DE REDES Y COMUNICACIONES&quot;</td><td>&quot;Presencial&quot;</td><td>0</td><td>0</td></tr><tr><td>1</td><td>0</td><td>&quot;M&quot;</td><td>&quot;ING. DE SISTEMAS&quot;</td><td>&quot;Presencial&quot;</td><td>3</td><td>0</td></tr><tr><td>1</td><td>1</td><td>&quot;F&quot;</td><td>&quot;DERECHO&quot;</td><td>&quot;Presencial&quot;</td><td>1</td><td>0</td></tr><tr><td>0</td><td>0</td><td>&quot;F&quot;</td><td>&quot;ADMINISTRACION DE NEGOCIOS (50…</td><td>&quot;Presencial&quot;</td><td>0</td><td>0</td></tr><tr><td>1</td><td>1</td><td>&quot;F&quot;</td><td>&quot;ADM. DE NEGOCIOS INTERNACIO&quot;</td><td>&quot;Presencial&quot;</td><td>2</td><td>0</td></tr></tbody></table></div>"
      ],
      "text/plain": [
       "shape: (5, 7)\n",
       "┌──────────────┬──────────────┬────────┬──────────────────┬────────────┬─────────────┬─────────────┐\n",
       "│ payment_2022 ┆ payment_2023 ┆ gender ┆ degree_program   ┆ study_mode ┆ num_courses ┆ risk_course │\n",
       "│ ---          ┆ ---          ┆ ---    ┆ ---              ┆ ---        ┆ ---         ┆ ---         │\n",
       "│ i64          ┆ i64          ┆ str    ┆ str              ┆ str        ┆ i64         ┆ i64         │\n",
       "╞══════════════╪══════════════╪════════╪══════════════════╪════════════╪═════════════╪═════════════╡\n",
       "│ 0            ┆ 0            ┆ M      ┆ ING. DE REDES Y  ┆ Presencial ┆ 0           ┆ 0           │\n",
       "│              ┆              ┆        ┆ COMUNICACIONES   ┆            ┆             ┆             │\n",
       "│ 1            ┆ 0            ┆ M      ┆ ING. DE SISTEMAS ┆ Presencial ┆ 3           ┆ 0           │\n",
       "│ 1            ┆ 1            ┆ F      ┆ DERECHO          ┆ Presencial ┆ 1           ┆ 0           │\n",
       "│ 0            ┆ 0            ┆ F      ┆ ADMINISTRACION   ┆ Presencial ┆ 0           ┆ 0           │\n",
       "│              ┆              ┆        ┆ DE NEGOCIOS (50… ┆            ┆             ┆             │\n",
       "│ 1            ┆ 1            ┆ F      ┆ ADM. DE NEGOCIOS ┆ Presencial ┆ 2           ┆ 0           │\n",
       "│              ┆              ┆        ┆ INTERNACIO       ┆            ┆             ┆             │\n",
       "└──────────────┴──────────────┴────────┴──────────────────┴────────────┴─────────────┴─────────────┘"
      ]
     },
     "execution_count": 59,
     "metadata": {},
     "output_type": "execute_result"
    }
   ],
   "source": [
    "matricula.head()"
   ]
  },
  {
   "cell_type": "markdown",
   "metadata": {},
   "source": [
    "### Verificar si contienen nulos"
   ]
  },
  {
   "cell_type": "code",
   "execution_count": 60,
   "metadata": {},
   "outputs": [
    {
     "data": {
      "text/html": [
       "<div><style>\n",
       ".dataframe > thead > tr,\n",
       ".dataframe > tbody > tr {\n",
       "  text-align: right;\n",
       "  white-space: pre-wrap;\n",
       "}\n",
       "</style>\n",
       "<small>shape: (1, 7)</small><table border=\"1\" class=\"dataframe\"><thead><tr><th>payment_2022</th><th>payment_2023</th><th>gender</th><th>degree_program</th><th>study_mode</th><th>num_courses</th><th>risk_course</th></tr><tr><td>u32</td><td>u32</td><td>u32</td><td>u32</td><td>u32</td><td>u32</td><td>u32</td></tr></thead><tbody><tr><td>0</td><td>0</td><td>2</td><td>1</td><td>0</td><td>0</td><td>0</td></tr></tbody></table></div>"
      ],
      "text/plain": [
       "shape: (1, 7)\n",
       "┌──────────────┬──────────────┬────────┬────────────────┬────────────┬─────────────┬─────────────┐\n",
       "│ payment_2022 ┆ payment_2023 ┆ gender ┆ degree_program ┆ study_mode ┆ num_courses ┆ risk_course │\n",
       "│ ---          ┆ ---          ┆ ---    ┆ ---            ┆ ---        ┆ ---         ┆ ---         │\n",
       "│ u32          ┆ u32          ┆ u32    ┆ u32            ┆ u32        ┆ u32         ┆ u32         │\n",
       "╞══════════════╪══════════════╪════════╪════════════════╪════════════╪═════════════╪═════════════╡\n",
       "│ 0            ┆ 0            ┆ 2      ┆ 1              ┆ 0          ┆ 0           ┆ 0           │\n",
       "└──────────────┴──────────────┴────────┴────────────────┴────────────┴─────────────┴─────────────┘"
      ]
     },
     "execution_count": 60,
     "metadata": {},
     "output_type": "execute_result"
    }
   ],
   "source": [
    "matricula.null_count().sum()"
   ]
  },
  {
   "cell_type": "code",
   "execution_count": 61,
   "metadata": {},
   "outputs": [
    {
     "name": "stdout",
     "output_type": "stream",
     "text": [
      "shape: (1,)\n",
      "Series: 'degree_program' [str]\n",
      "[\n",
      "\t\"DERECHO\"\n",
      "]\n",
      "shape: (1,)\n",
      "Series: 'gender' [str]\n",
      "[\n",
      "\t\"M\"\n",
      "]\n"
     ]
    }
   ],
   "source": [
    "# obtener el valor más común\n",
    "program = matricula[\"degree_program\"].mode()\n",
    "print(matricula[\"degree_program\"].mode())\n",
    "\n",
    "gender = matricula[\"gender\"].mode()\n",
    "print(matricula[\"gender\"].mode())"
   ]
  },
  {
   "cell_type": "code",
   "execution_count": 62,
   "metadata": {},
   "outputs": [
    {
     "data": {
      "text/html": [
       "<div><style>\n",
       ".dataframe > thead > tr,\n",
       ".dataframe > tbody > tr {\n",
       "  text-align: right;\n",
       "  white-space: pre-wrap;\n",
       "}\n",
       "</style>\n",
       "<small>shape: (5, 7)</small><table border=\"1\" class=\"dataframe\"><thead><tr><th>payment_2022</th><th>payment_2023</th><th>gender</th><th>degree_program</th><th>study_mode</th><th>num_courses</th><th>risk_course</th></tr><tr><td>i64</td><td>i64</td><td>str</td><td>str</td><td>str</td><td>i64</td><td>i64</td></tr></thead><tbody><tr><td>0</td><td>0</td><td>&quot;M&quot;</td><td>&quot;ING. DE REDES Y COMUNICACIONES&quot;</td><td>&quot;Presencial&quot;</td><td>0</td><td>0</td></tr><tr><td>1</td><td>0</td><td>&quot;M&quot;</td><td>&quot;ING. DE SISTEMAS&quot;</td><td>&quot;Presencial&quot;</td><td>3</td><td>0</td></tr><tr><td>1</td><td>1</td><td>&quot;F&quot;</td><td>&quot;DERECHO&quot;</td><td>&quot;Presencial&quot;</td><td>1</td><td>0</td></tr><tr><td>0</td><td>0</td><td>&quot;F&quot;</td><td>&quot;ADMINISTRACION DE NEGOCIOS (50…</td><td>&quot;Presencial&quot;</td><td>0</td><td>0</td></tr><tr><td>1</td><td>1</td><td>&quot;F&quot;</td><td>&quot;ADM. DE NEGOCIOS INTERNACIO&quot;</td><td>&quot;Presencial&quot;</td><td>2</td><td>0</td></tr></tbody></table></div>"
      ],
      "text/plain": [
       "shape: (5, 7)\n",
       "┌──────────────┬──────────────┬────────┬──────────────────┬────────────┬─────────────┬─────────────┐\n",
       "│ payment_2022 ┆ payment_2023 ┆ gender ┆ degree_program   ┆ study_mode ┆ num_courses ┆ risk_course │\n",
       "│ ---          ┆ ---          ┆ ---    ┆ ---              ┆ ---        ┆ ---         ┆ ---         │\n",
       "│ i64          ┆ i64          ┆ str    ┆ str              ┆ str        ┆ i64         ┆ i64         │\n",
       "╞══════════════╪══════════════╪════════╪══════════════════╪════════════╪═════════════╪═════════════╡\n",
       "│ 0            ┆ 0            ┆ M      ┆ ING. DE REDES Y  ┆ Presencial ┆ 0           ┆ 0           │\n",
       "│              ┆              ┆        ┆ COMUNICACIONES   ┆            ┆             ┆             │\n",
       "│ 1            ┆ 0            ┆ M      ┆ ING. DE SISTEMAS ┆ Presencial ┆ 3           ┆ 0           │\n",
       "│ 1            ┆ 1            ┆ F      ┆ DERECHO          ┆ Presencial ┆ 1           ┆ 0           │\n",
       "│ 0            ┆ 0            ┆ F      ┆ ADMINISTRACION   ┆ Presencial ┆ 0           ┆ 0           │\n",
       "│              ┆              ┆        ┆ DE NEGOCIOS (50… ┆            ┆             ┆             │\n",
       "│ 1            ┆ 1            ┆ F      ┆ ADM. DE NEGOCIOS ┆ Presencial ┆ 2           ┆ 0           │\n",
       "│              ┆              ┆        ┆ INTERNACIO       ┆            ┆             ┆             │\n",
       "└──────────────┴──────────────┴────────┴──────────────────┴────────────┴─────────────┴─────────────┘"
      ]
     },
     "execution_count": 62,
     "metadata": {},
     "output_type": "execute_result"
    }
   ],
   "source": [
    "# Manejar nulos en campos texto\n",
    "matricula = matricula.with_columns(\n",
    "    [\n",
    "        pl.col('gender').fill_null(gender), \n",
    "        pl.col('degree_program').fill_null(program)\n",
    "    ] \n",
    ")\n",
    "matricula.head()"
   ]
  },
  {
   "cell_type": "code",
   "execution_count": 63,
   "metadata": {},
   "outputs": [
    {
     "data": {
      "text/html": [
       "<div><style>\n",
       ".dataframe > thead > tr,\n",
       ".dataframe > tbody > tr {\n",
       "  text-align: right;\n",
       "  white-space: pre-wrap;\n",
       "}\n",
       "</style>\n",
       "<small>shape: (1, 7)</small><table border=\"1\" class=\"dataframe\"><thead><tr><th>payment_2022</th><th>payment_2023</th><th>gender</th><th>degree_program</th><th>study_mode</th><th>num_courses</th><th>risk_course</th></tr><tr><td>u32</td><td>u32</td><td>u32</td><td>u32</td><td>u32</td><td>u32</td><td>u32</td></tr></thead><tbody><tr><td>0</td><td>0</td><td>0</td><td>0</td><td>0</td><td>0</td><td>0</td></tr></tbody></table></div>"
      ],
      "text/plain": [
       "shape: (1, 7)\n",
       "┌──────────────┬──────────────┬────────┬────────────────┬────────────┬─────────────┬─────────────┐\n",
       "│ payment_2022 ┆ payment_2023 ┆ gender ┆ degree_program ┆ study_mode ┆ num_courses ┆ risk_course │\n",
       "│ ---          ┆ ---          ┆ ---    ┆ ---            ┆ ---        ┆ ---         ┆ ---         │\n",
       "│ u32          ┆ u32          ┆ u32    ┆ u32            ┆ u32        ┆ u32         ┆ u32         │\n",
       "╞══════════════╪══════════════╪════════╪════════════════╪════════════╪═════════════╪═════════════╡\n",
       "│ 0            ┆ 0            ┆ 0      ┆ 0              ┆ 0          ┆ 0           ┆ 0           │\n",
       "└──────────────┴──────────────┴────────┴────────────────┴────────────┴─────────────┴─────────────┘"
      ]
     },
     "execution_count": 63,
     "metadata": {},
     "output_type": "execute_result"
    }
   ],
   "source": [
    "matricula.null_count().sum()"
   ]
  },
  {
   "cell_type": "markdown",
   "metadata": {},
   "source": [
    "### Transformar el genero en el mismo formato 1=M y 2=F"
   ]
  },
  {
   "cell_type": "code",
   "execution_count": 64,
   "metadata": {},
   "outputs": [
    {
     "data": {
      "text/html": [
       "<div><style>\n",
       ".dataframe > thead > tr,\n",
       ".dataframe > tbody > tr {\n",
       "  text-align: right;\n",
       "  white-space: pre-wrap;\n",
       "}\n",
       "</style>\n",
       "<small>shape: (5, 1)</small><table border=\"1\" class=\"dataframe\"><thead><tr><th>gender</th></tr><tr><td>str</td></tr></thead><tbody><tr><td>&quot;M&quot;</td></tr><tr><td>&quot;F&quot;</td></tr><tr><td>&quot;U&quot;</td></tr><tr><td>&quot;1&quot;</td></tr><tr><td>&quot;2&quot;</td></tr></tbody></table></div>"
      ],
      "text/plain": [
       "shape: (5, 1)\n",
       "┌────────┐\n",
       "│ gender │\n",
       "│ ---    │\n",
       "│ str    │\n",
       "╞════════╡\n",
       "│ M      │\n",
       "│ F      │\n",
       "│ U      │\n",
       "│ 1      │\n",
       "│ 2      │\n",
       "└────────┘"
      ]
     },
     "execution_count": 64,
     "metadata": {},
     "output_type": "execute_result"
    }
   ],
   "source": [
    "matricula.select(\"gender\").unique()"
   ]
  },
  {
   "cell_type": "code",
   "execution_count": 15,
   "metadata": {},
   "outputs": [
    {
     "data": {
      "text/html": [
       "<div><style>\n",
       ".dataframe > thead > tr,\n",
       ".dataframe > tbody > tr {\n",
       "  text-align: right;\n",
       "  white-space: pre-wrap;\n",
       "}\n",
       "</style>\n",
       "<small>shape: (5, 7)</small><table border=\"1\" class=\"dataframe\"><thead><tr><th>payment_2022</th><th>payment_2023</th><th>gender</th><th>degree_program</th><th>study_mode</th><th>num_courses</th><th>risk_course</th></tr><tr><td>i64</td><td>i64</td><td>str</td><td>str</td><td>str</td><td>i64</td><td>i64</td></tr></thead><tbody><tr><td>0</td><td>0</td><td>&quot;M&quot;</td><td>&quot;ING. DE REDES Y COMUNICACIONES&quot;</td><td>&quot;Presencial&quot;</td><td>0</td><td>0</td></tr><tr><td>1</td><td>0</td><td>&quot;M&quot;</td><td>&quot;ING. DE SISTEMAS&quot;</td><td>&quot;Presencial&quot;</td><td>3</td><td>0</td></tr><tr><td>1</td><td>1</td><td>&quot;F&quot;</td><td>&quot;DERECHO&quot;</td><td>&quot;Presencial&quot;</td><td>1</td><td>0</td></tr><tr><td>0</td><td>0</td><td>&quot;F&quot;</td><td>&quot;ADMINISTRACION DE NEGOCIOS (50…</td><td>&quot;Presencial&quot;</td><td>0</td><td>0</td></tr><tr><td>1</td><td>1</td><td>&quot;F&quot;</td><td>&quot;ADM. DE NEGOCIOS INTERNACIO&quot;</td><td>&quot;Presencial&quot;</td><td>2</td><td>0</td></tr></tbody></table></div>"
      ],
      "text/plain": [
       "shape: (5, 7)\n",
       "┌──────────────┬──────────────┬────────┬──────────────────┬────────────┬─────────────┬─────────────┐\n",
       "│ payment_2022 ┆ payment_2023 ┆ gender ┆ degree_program   ┆ study_mode ┆ num_courses ┆ risk_course │\n",
       "│ ---          ┆ ---          ┆ ---    ┆ ---              ┆ ---        ┆ ---         ┆ ---         │\n",
       "│ i64          ┆ i64          ┆ str    ┆ str              ┆ str        ┆ i64         ┆ i64         │\n",
       "╞══════════════╪══════════════╪════════╪══════════════════╪════════════╪═════════════╪═════════════╡\n",
       "│ 0            ┆ 0            ┆ M      ┆ ING. DE REDES Y  ┆ Presencial ┆ 0           ┆ 0           │\n",
       "│              ┆              ┆        ┆ COMUNICACIONES   ┆            ┆             ┆             │\n",
       "│ 1            ┆ 0            ┆ M      ┆ ING. DE SISTEMAS ┆ Presencial ┆ 3           ┆ 0           │\n",
       "│ 1            ┆ 1            ┆ F      ┆ DERECHO          ┆ Presencial ┆ 1           ┆ 0           │\n",
       "│ 0            ┆ 0            ┆ F      ┆ ADMINISTRACION   ┆ Presencial ┆ 0           ┆ 0           │\n",
       "│              ┆              ┆        ┆ DE NEGOCIOS (50… ┆            ┆             ┆             │\n",
       "│ 1            ┆ 1            ┆ F      ┆ ADM. DE NEGOCIOS ┆ Presencial ┆ 2           ┆ 0           │\n",
       "│              ┆              ┆        ┆ INTERNACIO       ┆            ┆             ┆             │\n",
       "└──────────────┴──────────────┴────────┴──────────────────┴────────────┴─────────────┴─────────────┘"
      ]
     },
     "execution_count": 15,
     "metadata": {},
     "output_type": "execute_result"
    }
   ],
   "source": [
    "matricula = matricula.with_columns(\n",
    "    pl.col(\"gender\").str.replace_many({\"1\": \"M\", \"2\": \"F\"})\n",
    ")\n",
    "matricula.head()"
   ]
  },
  {
   "cell_type": "code",
   "execution_count": 16,
   "metadata": {},
   "outputs": [
    {
     "data": {
      "text/html": [
       "<div><style>\n",
       ".dataframe > thead > tr,\n",
       ".dataframe > tbody > tr {\n",
       "  text-align: right;\n",
       "  white-space: pre-wrap;\n",
       "}\n",
       "</style>\n",
       "<small>shape: (3, 1)</small><table border=\"1\" class=\"dataframe\"><thead><tr><th>gender</th></tr><tr><td>str</td></tr></thead><tbody><tr><td>&quot;F&quot;</td></tr><tr><td>&quot;U&quot;</td></tr><tr><td>&quot;M&quot;</td></tr></tbody></table></div>"
      ],
      "text/plain": [
       "shape: (3, 1)\n",
       "┌────────┐\n",
       "│ gender │\n",
       "│ ---    │\n",
       "│ str    │\n",
       "╞════════╡\n",
       "│ F      │\n",
       "│ U      │\n",
       "│ M      │\n",
       "└────────┘"
      ]
     },
     "execution_count": 16,
     "metadata": {},
     "output_type": "execute_result"
    }
   ],
   "source": [
    "matricula.select(\"gender\").unique()"
   ]
  },
  {
   "cell_type": "markdown",
   "metadata": {},
   "source": [
    "Questions to Answer:\n",
    "\n",
    "- How has tuition payment changed from 2022 to 2023?\n",
    "- What are the top 10 most popular majors among women compared to men?\n",
    "- What is students' preference when choosing the study mode?\n",
    "- Do students taking more courses have a higher risk of failing?"
   ]
  },
  {
   "cell_type": "code",
   "execution_count": 102,
   "metadata": {},
   "outputs": [
    {
     "name": "stdout",
     "output_type": "stream",
     "text": [
      "Collecting ipyvizzu\n",
      "  Downloading ipyvizzu-0.18.0-py3-none-any.whl.metadata (8.0 kB)\n",
      "Requirement already satisfied: IPython in c:\\users\\hp\\documents\\curso-polars\\venv\\lib\\site-packages (from ipyvizzu) (9.0.1)\n",
      "Collecting jsonschema (from ipyvizzu)\n",
      "  Downloading jsonschema-4.23.0-py3-none-any.whl.metadata (7.9 kB)\n",
      "Requirement already satisfied: colorama in c:\\users\\hp\\documents\\curso-polars\\venv\\lib\\site-packages (from IPython->ipyvizzu) (0.4.6)\n",
      "Requirement already satisfied: decorator in c:\\users\\hp\\documents\\curso-polars\\venv\\lib\\site-packages (from IPython->ipyvizzu) (5.2.1)\n",
      "Requirement already satisfied: ipython-pygments-lexers in c:\\users\\hp\\documents\\curso-polars\\venv\\lib\\site-packages (from IPython->ipyvizzu) (1.1.1)\n",
      "Requirement already satisfied: jedi>=0.16 in c:\\users\\hp\\documents\\curso-polars\\venv\\lib\\site-packages (from IPython->ipyvizzu) (0.19.2)\n",
      "Requirement already satisfied: matplotlib-inline in c:\\users\\hp\\documents\\curso-polars\\venv\\lib\\site-packages (from IPython->ipyvizzu) (0.1.7)\n",
      "Requirement already satisfied: prompt_toolkit<3.1.0,>=3.0.41 in c:\\users\\hp\\documents\\curso-polars\\venv\\lib\\site-packages (from IPython->ipyvizzu) (3.0.50)\n",
      "Requirement already satisfied: pygments>=2.4.0 in c:\\users\\hp\\documents\\curso-polars\\venv\\lib\\site-packages (from IPython->ipyvizzu) (2.19.1)\n",
      "Requirement already satisfied: stack_data in c:\\users\\hp\\documents\\curso-polars\\venv\\lib\\site-packages (from IPython->ipyvizzu) (0.6.3)\n",
      "Requirement already satisfied: traitlets>=5.13.0 in c:\\users\\hp\\documents\\curso-polars\\venv\\lib\\site-packages (from IPython->ipyvizzu) (5.14.3)\n",
      "Collecting attrs>=22.2.0 (from jsonschema->ipyvizzu)\n",
      "  Downloading attrs-25.1.0-py3-none-any.whl.metadata (10 kB)\n",
      "Collecting jsonschema-specifications>=2023.03.6 (from jsonschema->ipyvizzu)\n",
      "  Downloading jsonschema_specifications-2024.10.1-py3-none-any.whl.metadata (3.0 kB)\n",
      "Collecting referencing>=0.28.4 (from jsonschema->ipyvizzu)\n",
      "  Downloading referencing-0.36.2-py3-none-any.whl.metadata (2.8 kB)\n",
      "Collecting rpds-py>=0.7.1 (from jsonschema->ipyvizzu)\n",
      "  Downloading rpds_py-0.23.1-cp312-cp312-win_amd64.whl.metadata (4.2 kB)\n",
      "Requirement already satisfied: parso<0.9.0,>=0.8.4 in c:\\users\\hp\\documents\\curso-polars\\venv\\lib\\site-packages (from jedi>=0.16->IPython->ipyvizzu) (0.8.4)\n",
      "Requirement already satisfied: wcwidth in c:\\users\\hp\\documents\\curso-polars\\venv\\lib\\site-packages (from prompt_toolkit<3.1.0,>=3.0.41->IPython->ipyvizzu) (0.2.13)\n",
      "Collecting typing-extensions>=4.4.0 (from referencing>=0.28.4->jsonschema->ipyvizzu)\n",
      "  Using cached typing_extensions-4.12.2-py3-none-any.whl.metadata (3.0 kB)\n",
      "Requirement already satisfied: executing>=1.2.0 in c:\\users\\hp\\documents\\curso-polars\\venv\\lib\\site-packages (from stack_data->IPython->ipyvizzu) (2.2.0)\n",
      "Requirement already satisfied: asttokens>=2.1.0 in c:\\users\\hp\\documents\\curso-polars\\venv\\lib\\site-packages (from stack_data->IPython->ipyvizzu) (3.0.0)\n",
      "Requirement already satisfied: pure-eval in c:\\users\\hp\\documents\\curso-polars\\venv\\lib\\site-packages (from stack_data->IPython->ipyvizzu) (0.2.3)\n",
      "Downloading ipyvizzu-0.18.0-py3-none-any.whl (39 kB)\n",
      "Downloading jsonschema-4.23.0-py3-none-any.whl (88 kB)\n",
      "Downloading attrs-25.1.0-py3-none-any.whl (63 kB)\n",
      "Downloading jsonschema_specifications-2024.10.1-py3-none-any.whl (18 kB)\n",
      "Downloading referencing-0.36.2-py3-none-any.whl (26 kB)\n",
      "Downloading rpds_py-0.23.1-cp312-cp312-win_amd64.whl (237 kB)\n",
      "Using cached typing_extensions-4.12.2-py3-none-any.whl (37 kB)\n",
      "Installing collected packages: typing-extensions, rpds-py, attrs, referencing, jsonschema-specifications, jsonschema, ipyvizzu\n",
      "Successfully installed attrs-25.1.0 ipyvizzu-0.18.0 jsonschema-4.23.0 jsonschema-specifications-2024.10.1 referencing-0.36.2 rpds-py-0.23.1 typing-extensions-4.12.2\n",
      "Note: you may need to restart the kernel to use updated packages.\n"
     ]
    },
    {
     "name": "stderr",
     "output_type": "stream",
     "text": [
      "\n",
      "[notice] A new release of pip is available: 24.2 -> 25.0.1\n",
      "[notice] To update, run: python.exe -m pip install --upgrade pip\n"
     ]
    }
   ],
   "source": [
    "%pip install ipyvizzu"
   ]
  },
  {
   "cell_type": "code",
   "execution_count": 110,
   "metadata": {},
   "outputs": [
    {
     "data": {
      "application/javascript": "if (window.IpyVizzu) { window.IpyVizzu.clearInhibitScroll(element); }"
     },
     "metadata": {},
     "output_type": "display_data"
    },
    {
     "name": "stdout",
     "output_type": "stream",
     "text": [
      "Collecting pandas\n",
      "  Using cached pandas-2.2.3-cp312-cp312-win_amd64.whl.metadata (19 kB)\n",
      "Collecting numpy>=1.26.0 (from pandas)\n",
      "  Using cached numpy-2.2.3-cp312-cp312-win_amd64.whl.metadata (60 kB)\n",
      "Requirement already satisfied: python-dateutil>=2.8.2 in c:\\users\\hp\\documents\\curso-polars\\venv\\lib\\site-packages (from pandas) (2.9.0.post0)\n",
      "Collecting pytz>=2020.1 (from pandas)\n",
      "  Using cached pytz-2025.1-py2.py3-none-any.whl.metadata (22 kB)\n",
      "Collecting tzdata>=2022.7 (from pandas)\n",
      "  Using cached tzdata-2025.1-py2.py3-none-any.whl.metadata (1.4 kB)\n",
      "Requirement already satisfied: six>=1.5 in c:\\users\\hp\\documents\\curso-polars\\venv\\lib\\site-packages (from python-dateutil>=2.8.2->pandas) (1.17.0)\n",
      "Using cached pandas-2.2.3-cp312-cp312-win_amd64.whl (11.5 MB)\n",
      "Using cached numpy-2.2.3-cp312-cp312-win_amd64.whl (12.6 MB)\n",
      "Using cached pytz-2025.1-py2.py3-none-any.whl (507 kB)\n",
      "Using cached tzdata-2025.1-py2.py3-none-any.whl (346 kB)\n",
      "Installing collected packages: pytz, tzdata, numpy, pandas\n",
      "Successfully installed numpy-2.2.3 pandas-2.2.3 pytz-2025.1 tzdata-2025.1\n",
      "Note: you may need to restart the kernel to use updated packages.\n"
     ]
    },
    {
     "name": "stderr",
     "output_type": "stream",
     "text": [
      "\n",
      "[notice] A new release of pip is available: 24.2 -> 25.0.1\n",
      "[notice] To update, run: python.exe -m pip install --upgrade pip\n"
     ]
    }
   ],
   "source": [
    "%pip install pandas"
   ]
  },
  {
   "cell_type": "code",
   "execution_count": 131,
   "metadata": {},
   "outputs": [
    {
     "data": {
      "application/javascript": "if (window.IpyVizzu) { window.IpyVizzu.clearInhibitScroll(element); }"
     },
     "metadata": {},
     "output_type": "display_data"
    },
    {
     "name": "stdout",
     "output_type": "stream",
     "text": [
      "Collecting matplotlib\n",
      "  Using cached matplotlib-3.10.1-cp312-cp312-win_amd64.whl.metadata (11 kB)\n",
      "Collecting contourpy>=1.0.1 (from matplotlib)\n",
      "  Using cached contourpy-1.3.1-cp312-cp312-win_amd64.whl.metadata (5.4 kB)\n",
      "Collecting cycler>=0.10 (from matplotlib)\n",
      "  Using cached cycler-0.12.1-py3-none-any.whl.metadata (3.8 kB)\n",
      "Collecting fonttools>=4.22.0 (from matplotlib)\n",
      "  Using cached fonttools-4.56.0-cp312-cp312-win_amd64.whl.metadata (103 kB)\n",
      "Collecting kiwisolver>=1.3.1 (from matplotlib)\n",
      "  Using cached kiwisolver-1.4.8-cp312-cp312-win_amd64.whl.metadata (6.3 kB)\n",
      "Requirement already satisfied: numpy>=1.23 in c:\\users\\hp\\documents\\curso-polars\\venv\\lib\\site-packages (from matplotlib) (2.2.3)\n",
      "Requirement already satisfied: packaging>=20.0 in c:\\users\\hp\\documents\\curso-polars\\venv\\lib\\site-packages (from matplotlib) (24.2)\n",
      "Collecting pillow>=8 (from matplotlib)\n",
      "  Using cached pillow-11.1.0-cp312-cp312-win_amd64.whl.metadata (9.3 kB)\n",
      "Collecting pyparsing>=2.3.1 (from matplotlib)\n",
      "  Using cached pyparsing-3.2.1-py3-none-any.whl.metadata (5.0 kB)\n",
      "Requirement already satisfied: python-dateutil>=2.7 in c:\\users\\hp\\documents\\curso-polars\\venv\\lib\\site-packages (from matplotlib) (2.9.0.post0)\n",
      "Requirement already satisfied: six>=1.5 in c:\\users\\hp\\documents\\curso-polars\\venv\\lib\\site-packages (from python-dateutil>=2.7->matplotlib) (1.17.0)\n",
      "Using cached matplotlib-3.10.1-cp312-cp312-win_amd64.whl (8.1 MB)\n",
      "Using cached contourpy-1.3.1-cp312-cp312-win_amd64.whl (220 kB)\n",
      "Using cached cycler-0.12.1-py3-none-any.whl (8.3 kB)\n",
      "Using cached fonttools-4.56.0-cp312-cp312-win_amd64.whl (2.2 MB)\n",
      "Using cached kiwisolver-1.4.8-cp312-cp312-win_amd64.whl (71 kB)\n",
      "Using cached pillow-11.1.0-cp312-cp312-win_amd64.whl (2.6 MB)\n",
      "Using cached pyparsing-3.2.1-py3-none-any.whl (107 kB)\n",
      "Installing collected packages: pyparsing, pillow, kiwisolver, fonttools, cycler, contourpy, matplotlib\n",
      "Successfully installed contourpy-1.3.1 cycler-0.12.1 fonttools-4.56.0 kiwisolver-1.4.8 matplotlib-3.10.1 pillow-11.1.0 pyparsing-3.2.1\n",
      "Note: you may need to restart the kernel to use updated packages.\n"
     ]
    },
    {
     "name": "stderr",
     "output_type": "stream",
     "text": [
      "\n",
      "[notice] A new release of pip is available: 24.2 -> 25.0.1\n",
      "[notice] To update, run: python.exe -m pip install --upgrade pip\n"
     ]
    }
   ],
   "source": [
    "%pip install matplotlib"
   ]
  },
  {
   "cell_type": "markdown",
   "metadata": {},
   "source": [
    "## Cambio en el pago de matrícula de 2022 a 2023"
   ]
  },
  {
   "cell_type": "code",
   "execution_count": 37,
   "metadata": {},
   "outputs": [
    {
     "data": {
      "image/png": "[encoded data removed]",
      "text/plain": [
       "<Figure size 700x500 with 1 Axes>"
      ]
     },
     "metadata": {},
     "output_type": "display_data"
    }
   ],
   "source": [
    "import matplotlib.pyplot as plt\n",
    "import numpy as np\n",
    "\n",
    "payment_counts = matricula.select([\"payment_2022\", \"payment_2023\"]).sum().to_dicts()[0]\n",
    "\n",
    "# Posición de las barras\n",
    "x = np.arange(len(payment_counts))\n",
    "\n",
    "# Tamaño del gráfico\n",
    "plt.figure(figsize=(7, 5))\n",
    "\n",
    "# Dibujar barras con colores recomendados\n",
    "colors = [\"#4A81BF\", \"#76787B\"]\n",
    "plt.bar(x, list(payment_counts.values()), color=colors)\n",
    "\n",
    "# Etiquetas y títulos\n",
    "plt.xticks(x, [\"Pago 2022\", \"Pago 2023\"], fontsize=12)\n",
    "plt.ylabel(\"Cantidad de Pagos\", fontsize=12)\n",
    "plt.title(\"Evolución de Pagos en 2022 vs. 2023\", fontsize=16, pad=20)\n",
    "\n",
    "# Agregar texto descriptivo dentro de las barras\n",
    "for i, count in enumerate(payment_counts.values()):\n",
    "    plt.text(i, count + 400, f\"{count}\", ha=\"center\", fontsize=12, fontweight=\"bold\", color=\"black\")\n",
    "\n",
    "# Quitar bordes innecesarios\n",
    "plt.gca().spines[\"top\"].set_visible(False)\n",
    "plt.gca().spines[\"right\"].set_visible(False)\n",
    "\n",
    "# Mostrar gráfico  \n",
    "plt.show()"
   ]
  },
  {
   "cell_type": "code",
   "execution_count": 189,
   "metadata": {},
   "outputs": [
    {
     "data": {
      "application/javascript": "if (window.IpyVizzu) { window.IpyVizzu.clearInhibitScroll(element); }"
     },
     "metadata": {},
     "output_type": "display_data"
    },
    {
     "data": {
      "text/html": [
       "<div><style>\n",
       ".dataframe > thead > tr,\n",
       ".dataframe > tbody > tr {\n",
       "  text-align: right;\n",
       "  white-space: pre-wrap;\n",
       "}\n",
       "</style>\n",
       "<small>shape: (1, 2)</small><table border=\"1\" class=\"dataframe\"><thead><tr><th>payment_2022</th><th>payment_2023</th></tr><tr><td>i64</td><td>i64</td></tr></thead><tbody><tr><td>32376</td><td>31619</td></tr></tbody></table></div>"
      ],
      "text/plain": [
       "shape: (1, 2)\n",
       "┌──────────────┬──────────────┐\n",
       "│ payment_2022 ┆ payment_2023 │\n",
       "│ ---          ┆ ---          │\n",
       "│ i64          ┆ i64          │\n",
       "╞══════════════╪══════════════╡\n",
       "│ 32376        ┆ 31619        │\n",
       "└──────────────┴──────────────┘"
      ]
     },
     "execution_count": 189,
     "metadata": {},
     "output_type": "execute_result"
    }
   ],
   "source": [
    "matricula.select([\"payment_2022\", \"payment_2023\"]).sum()"
   ]
  }
 ],
 "metadata": {
  "kernelspec": {
   "display_name": "venv",
   "language": "python",
   "name": "python3"
  },
  "language_info": {
   "codemirror_mode": {
    "name": "ipython",
    "version": 3
   },
   "file_extension": ".py",
   "mimetype": "text/x-python",
   "name": "python",
   "nbconvert_exporter": "python",
   "pygments_lexer": "ipython3",
   "version": "3.12.5"
  }
 },
 "nbformat": 4,
 "nbformat_minor": 2
}
