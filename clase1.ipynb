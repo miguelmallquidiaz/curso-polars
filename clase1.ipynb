{
 "cells": [
  {
   "cell_type": "code",
   "execution_count": 1,
   "metadata": {},
   "outputs": [
    {
     "name": "stdout",
     "output_type": "stream",
     "text": [
      "Collecting polars\n",
      "  Downloading polars-1.24.0-cp39-abi3-win_amd64.whl.metadata (15 kB)\n",
      "Downloading polars-1.24.0-cp39-abi3-win_amd64.whl (34.7 MB)\n",
      "   ---------------------------------------- 0.0/34.7 MB ? eta -:--:--\n",
      "   ---------------------------------------- 0.0/34.7 MB ? eta -:--:--\n",
      "   ---------------------------------------- 0.3/34.7 MB ? eta -:--:--\n",
      "   ---------------------------------------- 0.3/34.7 MB ? eta -:--:--\n",
      "    --------------------------------------- 0.5/34.7 MB 524.3 kB/s eta 0:01:06\n",
      "    --------------------------------------- 0.5/34.7 MB 524.3 kB/s eta 0:01:06\n",
      "    --------------------------------------- 0.8/34.7 MB 558.9 kB/s eta 0:01:01\n",
      "   - -------------------------------------- 1.3/34.7 MB 919.0 kB/s eta 0:00:37\n",
      "   -- ------------------------------------- 2.4/34.7 MB 1.5 MB/s eta 0:00:22\n",
      "   --- ------------------------------------ 3.1/34.7 MB 1.8 MB/s eta 0:00:18\n",
      "   ---- ----------------------------------- 3.9/34.7 MB 2.1 MB/s eta 0:00:15\n",
      "   ----- ---------------------------------- 4.7/34.7 MB 2.2 MB/s eta 0:00:14\n",
      "   ------ --------------------------------- 5.8/34.7 MB 2.4 MB/s eta 0:00:12\n",
      "   ------- -------------------------------- 6.3/34.7 MB 2.4 MB/s eta 0:00:12\n",
      "   -------- ------------------------------- 7.1/34.7 MB 2.5 MB/s eta 0:00:12\n",
      "   --------- ------------------------------ 7.9/34.7 MB 2.6 MB/s eta 0:00:11\n",
      "   --------- ------------------------------ 8.7/34.7 MB 2.6 MB/s eta 0:00:10\n",
      "   ---------- ----------------------------- 9.4/34.7 MB 2.7 MB/s eta 0:00:10\n",
      "   ----------- ---------------------------- 10.0/34.7 MB 2.7 MB/s eta 0:00:10\n",
      "   ------------ --------------------------- 11.0/34.7 MB 2.8 MB/s eta 0:00:09\n",
      "   ------------- -------------------------- 11.5/34.7 MB 2.8 MB/s eta 0:00:09\n",
      "   -------------- ------------------------- 12.6/34.7 MB 2.9 MB/s eta 0:00:08\n",
      "   --------------- ------------------------ 13.4/34.7 MB 2.9 MB/s eta 0:00:08\n",
      "   ---------------- ----------------------- 14.2/34.7 MB 3.0 MB/s eta 0:00:07\n",
      "   ---------------- ----------------------- 14.7/34.7 MB 2.9 MB/s eta 0:00:07\n",
      "   ----------------- ---------------------- 15.2/34.7 MB 2.9 MB/s eta 0:00:07\n",
      "   ------------------ --------------------- 16.0/34.7 MB 3.0 MB/s eta 0:00:07\n",
      "   ------------------- -------------------- 16.8/34.7 MB 3.0 MB/s eta 0:00:06\n",
      "   ------------------- -------------------- 17.3/34.7 MB 3.0 MB/s eta 0:00:06\n",
      "   -------------------- ------------------- 18.1/34.7 MB 3.0 MB/s eta 0:00:06\n",
      "   ---------------------- ----------------- 19.1/34.7 MB 3.1 MB/s eta 0:00:06\n",
      "   ---------------------- ----------------- 19.9/34.7 MB 3.1 MB/s eta 0:00:05\n",
      "   ----------------------- ---------------- 20.7/34.7 MB 3.1 MB/s eta 0:00:05\n",
      "   ------------------------ --------------- 21.5/34.7 MB 3.1 MB/s eta 0:00:05\n",
      "   ------------------------- -------------- 22.3/34.7 MB 3.1 MB/s eta 0:00:04\n",
      "   -------------------------- ------------- 23.1/34.7 MB 3.2 MB/s eta 0:00:04\n",
      "   --------------------------- ------------ 23.9/34.7 MB 3.2 MB/s eta 0:00:04\n",
      "   ---------------------------- ----------- 24.6/34.7 MB 3.2 MB/s eta 0:00:04\n",
      "   ----------------------------- ---------- 25.4/34.7 MB 3.2 MB/s eta 0:00:03\n",
      "   ------------------------------ --------- 26.5/34.7 MB 3.3 MB/s eta 0:00:03\n",
      "   ------------------------------- -------- 27.5/34.7 MB 3.3 MB/s eta 0:00:03\n",
      "   -------------------------------- ------- 28.6/34.7 MB 3.3 MB/s eta 0:00:02\n",
      "   ---------------------------------- ----- 29.6/34.7 MB 3.4 MB/s eta 0:00:02\n",
      "   ----------------------------------- ---- 30.9/34.7 MB 3.4 MB/s eta 0:00:02\n",
      "   ------------------------------------ --- 31.7/34.7 MB 3.5 MB/s eta 0:00:01\n",
      "   ------------------------------------- -- 32.8/34.7 MB 3.5 MB/s eta 0:00:01\n",
      "   ---------------------------------------  33.8/34.7 MB 3.5 MB/s eta 0:00:01\n",
      "   ---------------------------------------  34.6/34.7 MB 3.6 MB/s eta 0:00:01\n",
      "   ---------------------------------------  34.6/34.7 MB 3.6 MB/s eta 0:00:01\n",
      "   ---------------------------------------- 34.7/34.7 MB 3.4 MB/s eta 0:00:00\n",
      "Installing collected packages: polars\n",
      "Successfully installed polars-1.24.0\n",
      "Note: you may need to restart the kernel to use updated packages.\n"
     ]
    },
    {
     "name": "stderr",
     "output_type": "stream",
     "text": [
      "\n",
      "[notice] A new release of pip is available: 24.2 -> 25.0.1\n",
      "[notice] To update, run: python.exe -m pip install --upgrade pip\n"
     ]
    }
   ],
   "source": [
    "%pip install polars"
   ]
  },
  {
   "cell_type": "code",
   "execution_count": 1,
   "metadata": {},
   "outputs": [],
   "source": [
    "import polars as pl\n",
    "# Para no utilizar el pl accedemos direcamente al módulo\n",
    "from polars import Config # Cambiar configuraciones globales\n",
    "from polars import DataFrame"
   ]
  },
  {
   "cell_type": "markdown",
   "metadata": {},
   "source": [
    "### Establecer el número máximo de caracteres que se van a mostrar"
   ]
  },
  {
   "cell_type": "code",
   "execution_count": 2,
   "metadata": {},
   "outputs": [
    {
     "data": {
      "text/plain": [
       "polars.config.Config"
      ]
     },
     "execution_count": 2,
     "metadata": {},
     "output_type": "execute_result"
    }
   ],
   "source": [
    "Config.set_fmt_str_lengths(50)"
   ]
  },
  {
   "cell_type": "markdown",
   "metadata": {},
   "source": [
    "### Extraer el archivo"
   ]
  },
  {
   "cell_type": "code",
   "execution_count": 3,
   "metadata": {},
   "outputs": [],
   "source": [
    "df_titanic = pl.read_csv('./data/Titanic/titanic.csv', separator=';')"
   ]
  },
  {
   "cell_type": "code",
   "execution_count": 4,
   "metadata": {},
   "outputs": [
    {
     "data": {
      "text/html": [
       "<div><style>\n",
       ".dataframe > thead > tr,\n",
       ".dataframe > tbody > tr {\n",
       "  text-align: right;\n",
       "  white-space: pre-wrap;\n",
       "}\n",
       "</style>\n",
       "<small>shape: (5, 11)</small><table border=\"1\" class=\"dataframe\"><thead><tr><th>Id_Pasajero</th><th>Survived</th><th>Clase</th><th>Nombre</th><th>Sexo</th><th>Edad</th><th>Familiares</th><th>Tiquete</th><th>Tarifa</th><th>Cabina</th><th>Embarcado</th></tr><tr><td>i64</td><td>i64</td><td>i64</td><td>str</td><td>str</td><td>f64</td><td>i64</td><td>str</td><td>f64</td><td>str</td><td>str</td></tr></thead><tbody><tr><td>1</td><td>0</td><td>3</td><td>&quot;Braund, Mr. Owen Harris&quot;</td><td>&quot;Masculino&quot;</td><td>22.0</td><td>0</td><td>&quot;A/5 21171&quot;</td><td>7.25</td><td>null</td><td>&quot;S&quot;</td></tr><tr><td>2</td><td>1</td><td>1</td><td>&quot;Cumings, Mrs. John Bradley (Florence Briggs Thayer…</td><td>&quot;Femenino&quot;</td><td>38.0</td><td>0</td><td>&quot;PC 17599&quot;</td><td>71.28</td><td>&quot;C85&quot;</td><td>&quot;C&quot;</td></tr><tr><td>3</td><td>1</td><td>3</td><td>&quot;Heikkinen, Miss. Laina&quot;</td><td>&quot;Femenino&quot;</td><td>26.0</td><td>0</td><td>&quot;STON/O2. 3101282&quot;</td><td>7.93</td><td>null</td><td>&quot;S&quot;</td></tr><tr><td>4</td><td>1</td><td>1</td><td>&quot;Futrelle, Mrs. Jacques Heath (Lily May Peel)&quot;</td><td>&quot;Femenino&quot;</td><td>35.0</td><td>0</td><td>&quot;113803&quot;</td><td>53.1</td><td>&quot;C123&quot;</td><td>&quot;S&quot;</td></tr><tr><td>5</td><td>0</td><td>3</td><td>&quot;Allen, Mr. William Henry&quot;</td><td>&quot;Masculino&quot;</td><td>35.0</td><td>0</td><td>&quot;373450&quot;</td><td>8.05</td><td>null</td><td>&quot;S&quot;</td></tr></tbody></table></div>"
      ],
      "text/plain": [
       "shape: (5, 11)\n",
       "┌─────────────┬──────────┬───────┬───────────────────┬───┬───────────┬────────┬────────┬───────────┐\n",
       "│ Id_Pasajero ┆ Survived ┆ Clase ┆ Nombre            ┆ … ┆ Tiquete   ┆ Tarifa ┆ Cabina ┆ Embarcado │\n",
       "│ ---         ┆ ---      ┆ ---   ┆ ---               ┆   ┆ ---       ┆ ---    ┆ ---    ┆ ---       │\n",
       "│ i64         ┆ i64      ┆ i64   ┆ str               ┆   ┆ str       ┆ f64    ┆ str    ┆ str       │\n",
       "╞═════════════╪══════════╪═══════╪═══════════════════╪═══╪═══════════╪════════╪════════╪═══════════╡\n",
       "│ 1           ┆ 0        ┆ 3     ┆ Braund, Mr. Owen  ┆ … ┆ A/5 21171 ┆ 7.25   ┆ null   ┆ S         │\n",
       "│             ┆          ┆       ┆ Harris            ┆   ┆           ┆        ┆        ┆           │\n",
       "│ 2           ┆ 1        ┆ 1     ┆ Cumings, Mrs.     ┆ … ┆ PC 17599  ┆ 71.28  ┆ C85    ┆ C         │\n",
       "│             ┆          ┆       ┆ John Bradley      ┆   ┆           ┆        ┆        ┆           │\n",
       "│             ┆          ┆       ┆ (Florence Briggs  ┆   ┆           ┆        ┆        ┆           │\n",
       "│             ┆          ┆       ┆ Thayer…           ┆   ┆           ┆        ┆        ┆           │\n",
       "│ 3           ┆ 1        ┆ 3     ┆ Heikkinen, Miss.  ┆ … ┆ STON/O2.  ┆ 7.93   ┆ null   ┆ S         │\n",
       "│             ┆          ┆       ┆ Laina             ┆   ┆ 3101282   ┆        ┆        ┆           │\n",
       "│ 4           ┆ 1        ┆ 1     ┆ Futrelle, Mrs.    ┆ … ┆ 113803    ┆ 53.1   ┆ C123   ┆ S         │\n",
       "│             ┆          ┆       ┆ Jacques Heath     ┆   ┆           ┆        ┆        ┆           │\n",
       "│             ┆          ┆       ┆ (Lily May Peel)   ┆   ┆           ┆        ┆        ┆           │\n",
       "│ 5           ┆ 0        ┆ 3     ┆ Allen, Mr.        ┆ … ┆ 373450    ┆ 8.05   ┆ null   ┆ S         │\n",
       "│             ┆          ┆       ┆ William Henry     ┆   ┆           ┆        ┆        ┆           │\n",
       "└─────────────┴──────────┴───────┴───────────────────┴───┴───────────┴────────┴────────┴───────────┘"
      ]
     },
     "execution_count": 4,
     "metadata": {},
     "output_type": "execute_result"
    }
   ],
   "source": [
    "df_titanic.head()"
   ]
  },
  {
   "cell_type": "markdown",
   "metadata": {},
   "source": [
    "### Renombrar el nombre de la columna"
   ]
  },
  {
   "cell_type": "code",
   "execution_count": 5,
   "metadata": {},
   "outputs": [],
   "source": [
    "df_titanic = df_titanic.rename({'Id_Pasajero':'PasajeroID', 'Survived':'Sobrevivio'})"
   ]
  },
  {
   "cell_type": "code",
   "execution_count": 6,
   "metadata": {},
   "outputs": [
    {
     "data": {
      "text/html": [
       "<div><style>\n",
       ".dataframe > thead > tr,\n",
       ".dataframe > tbody > tr {\n",
       "  text-align: right;\n",
       "  white-space: pre-wrap;\n",
       "}\n",
       "</style>\n",
       "<small>shape: (5, 11)</small><table border=\"1\" class=\"dataframe\"><thead><tr><th>PasajeroID</th><th>Sobrevivio</th><th>Clase</th><th>Nombre</th><th>Sexo</th><th>Edad</th><th>Familiares</th><th>Tiquete</th><th>Tarifa</th><th>Cabina</th><th>Embarcado</th></tr><tr><td>i64</td><td>i64</td><td>i64</td><td>str</td><td>str</td><td>f64</td><td>i64</td><td>str</td><td>f64</td><td>str</td><td>str</td></tr></thead><tbody><tr><td>1</td><td>0</td><td>3</td><td>&quot;Braund, Mr. Owen Harris&quot;</td><td>&quot;Masculino&quot;</td><td>22.0</td><td>0</td><td>&quot;A/5 21171&quot;</td><td>7.25</td><td>null</td><td>&quot;S&quot;</td></tr><tr><td>2</td><td>1</td><td>1</td><td>&quot;Cumings, Mrs. John Bradley (Florence Briggs Thayer…</td><td>&quot;Femenino&quot;</td><td>38.0</td><td>0</td><td>&quot;PC 17599&quot;</td><td>71.28</td><td>&quot;C85&quot;</td><td>&quot;C&quot;</td></tr><tr><td>3</td><td>1</td><td>3</td><td>&quot;Heikkinen, Miss. Laina&quot;</td><td>&quot;Femenino&quot;</td><td>26.0</td><td>0</td><td>&quot;STON/O2. 3101282&quot;</td><td>7.93</td><td>null</td><td>&quot;S&quot;</td></tr><tr><td>4</td><td>1</td><td>1</td><td>&quot;Futrelle, Mrs. Jacques Heath (Lily May Peel)&quot;</td><td>&quot;Femenino&quot;</td><td>35.0</td><td>0</td><td>&quot;113803&quot;</td><td>53.1</td><td>&quot;C123&quot;</td><td>&quot;S&quot;</td></tr><tr><td>5</td><td>0</td><td>3</td><td>&quot;Allen, Mr. William Henry&quot;</td><td>&quot;Masculino&quot;</td><td>35.0</td><td>0</td><td>&quot;373450&quot;</td><td>8.05</td><td>null</td><td>&quot;S&quot;</td></tr></tbody></table></div>"
      ],
      "text/plain": [
       "shape: (5, 11)\n",
       "┌────────────┬────────────┬───────┬──────────────────┬───┬───────────┬────────┬────────┬───────────┐\n",
       "│ PasajeroID ┆ Sobrevivio ┆ Clase ┆ Nombre           ┆ … ┆ Tiquete   ┆ Tarifa ┆ Cabina ┆ Embarcado │\n",
       "│ ---        ┆ ---        ┆ ---   ┆ ---              ┆   ┆ ---       ┆ ---    ┆ ---    ┆ ---       │\n",
       "│ i64        ┆ i64        ┆ i64   ┆ str              ┆   ┆ str       ┆ f64    ┆ str    ┆ str       │\n",
       "╞════════════╪════════════╪═══════╪══════════════════╪═══╪═══════════╪════════╪════════╪═══════════╡\n",
       "│ 1          ┆ 0          ┆ 3     ┆ Braund, Mr. Owen ┆ … ┆ A/5 21171 ┆ 7.25   ┆ null   ┆ S         │\n",
       "│            ┆            ┆       ┆ Harris           ┆   ┆           ┆        ┆        ┆           │\n",
       "│ 2          ┆ 1          ┆ 1     ┆ Cumings, Mrs.    ┆ … ┆ PC 17599  ┆ 71.28  ┆ C85    ┆ C         │\n",
       "│            ┆            ┆       ┆ John Bradley     ┆   ┆           ┆        ┆        ┆           │\n",
       "│            ┆            ┆       ┆ (Florence Briggs ┆   ┆           ┆        ┆        ┆           │\n",
       "│            ┆            ┆       ┆ Thayer…          ┆   ┆           ┆        ┆        ┆           │\n",
       "│ 3          ┆ 1          ┆ 3     ┆ Heikkinen, Miss. ┆ … ┆ STON/O2.  ┆ 7.93   ┆ null   ┆ S         │\n",
       "│            ┆            ┆       ┆ Laina            ┆   ┆ 3101282   ┆        ┆        ┆           │\n",
       "│ 4          ┆ 1          ┆ 1     ┆ Futrelle, Mrs.   ┆ … ┆ 113803    ┆ 53.1   ┆ C123   ┆ S         │\n",
       "│            ┆            ┆       ┆ Jacques Heath    ┆   ┆           ┆        ┆        ┆           │\n",
       "│            ┆            ┆       ┆ (Lily May Peel)  ┆   ┆           ┆        ┆        ┆           │\n",
       "│ 5          ┆ 0          ┆ 3     ┆ Allen, Mr.       ┆ … ┆ 373450    ┆ 8.05   ┆ null   ┆ S         │\n",
       "│            ┆            ┆       ┆ William Henry    ┆   ┆           ┆        ┆        ┆           │\n",
       "└────────────┴────────────┴───────┴──────────────────┴───┴───────────┴────────┴────────┴───────────┘"
      ]
     },
     "execution_count": 6,
     "metadata": {},
     "output_type": "execute_result"
    }
   ],
   "source": [
    "df_titanic.head()"
   ]
  },
  {
   "cell_type": "markdown",
   "metadata": {},
   "source": [
    "### Filtrar datos"
   ]
  },
  {
   "cell_type": "code",
   "execution_count": 7,
   "metadata": {},
   "outputs": [],
   "source": [
    "# Filtrar los pasajeros de sexo Masculino\n",
    "# Revisar la documentación https://docs.pola.rs/user-guide/expressions/strings/#check-for-the-existence-of-a-pattern\n",
    "# Es como utilizar el where en sql\n",
    "\n",
    "df_titanic = df_titanic.filter(\n",
    "    # Traer la columa\n",
    "    pl.col('Sexo').str.starts_with('Masculino')\n",
    ")"
   ]
  },
  {
   "cell_type": "code",
   "execution_count": 8,
   "metadata": {},
   "outputs": [
    {
     "data": {
      "text/html": [
       "<div><style>\n",
       ".dataframe > thead > tr,\n",
       ".dataframe > tbody > tr {\n",
       "  text-align: right;\n",
       "  white-space: pre-wrap;\n",
       "}\n",
       "</style>\n",
       "<small>shape: (5, 11)</small><table border=\"1\" class=\"dataframe\"><thead><tr><th>PasajeroID</th><th>Sobrevivio</th><th>Clase</th><th>Nombre</th><th>Sexo</th><th>Edad</th><th>Familiares</th><th>Tiquete</th><th>Tarifa</th><th>Cabina</th><th>Embarcado</th></tr><tr><td>i64</td><td>i64</td><td>i64</td><td>str</td><td>str</td><td>f64</td><td>i64</td><td>str</td><td>f64</td><td>str</td><td>str</td></tr></thead><tbody><tr><td>1</td><td>0</td><td>3</td><td>&quot;Braund, Mr. Owen Harris&quot;</td><td>&quot;Masculino&quot;</td><td>22.0</td><td>0</td><td>&quot;A/5 21171&quot;</td><td>7.25</td><td>null</td><td>&quot;S&quot;</td></tr><tr><td>5</td><td>0</td><td>3</td><td>&quot;Allen, Mr. William Henry&quot;</td><td>&quot;Masculino&quot;</td><td>35.0</td><td>0</td><td>&quot;373450&quot;</td><td>8.05</td><td>null</td><td>&quot;S&quot;</td></tr><tr><td>6</td><td>0</td><td>3</td><td>&quot;Moran, Mr. James&quot;</td><td>&quot;Masculino&quot;</td><td>null</td><td>0</td><td>&quot;330877&quot;</td><td>8.46</td><td>null</td><td>&quot;Q&quot;</td></tr><tr><td>7</td><td>0</td><td>1</td><td>&quot;McCarthy, Mr. Timothy J&quot;</td><td>&quot;Masculino&quot;</td><td>54.0</td><td>0</td><td>&quot;17463&quot;</td><td>51.86</td><td>&quot;E46&quot;</td><td>&quot;S&quot;</td></tr><tr><td>8</td><td>0</td><td>3</td><td>&quot;Palsson, Master. Gosta Leonard&quot;</td><td>&quot;Masculino&quot;</td><td>2.0</td><td>1</td><td>&quot;349909&quot;</td><td>21.08</td><td>null</td><td>&quot;S&quot;</td></tr></tbody></table></div>"
      ],
      "text/plain": [
       "shape: (5, 11)\n",
       "┌────────────┬────────────┬───────┬──────────────────┬───┬───────────┬────────┬────────┬───────────┐\n",
       "│ PasajeroID ┆ Sobrevivio ┆ Clase ┆ Nombre           ┆ … ┆ Tiquete   ┆ Tarifa ┆ Cabina ┆ Embarcado │\n",
       "│ ---        ┆ ---        ┆ ---   ┆ ---              ┆   ┆ ---       ┆ ---    ┆ ---    ┆ ---       │\n",
       "│ i64        ┆ i64        ┆ i64   ┆ str              ┆   ┆ str       ┆ f64    ┆ str    ┆ str       │\n",
       "╞════════════╪════════════╪═══════╪══════════════════╪═══╪═══════════╪════════╪════════╪═══════════╡\n",
       "│ 1          ┆ 0          ┆ 3     ┆ Braund, Mr. Owen ┆ … ┆ A/5 21171 ┆ 7.25   ┆ null   ┆ S         │\n",
       "│            ┆            ┆       ┆ Harris           ┆   ┆           ┆        ┆        ┆           │\n",
       "│ 5          ┆ 0          ┆ 3     ┆ Allen, Mr.       ┆ … ┆ 373450    ┆ 8.05   ┆ null   ┆ S         │\n",
       "│            ┆            ┆       ┆ William Henry    ┆   ┆           ┆        ┆        ┆           │\n",
       "│ 6          ┆ 0          ┆ 3     ┆ Moran, Mr. James ┆ … ┆ 330877    ┆ 8.46   ┆ null   ┆ Q         │\n",
       "│ 7          ┆ 0          ┆ 1     ┆ McCarthy, Mr.    ┆ … ┆ 17463     ┆ 51.86  ┆ E46    ┆ S         │\n",
       "│            ┆            ┆       ┆ Timothy J        ┆   ┆           ┆        ┆        ┆           │\n",
       "│ 8          ┆ 0          ┆ 3     ┆ Palsson, Master. ┆ … ┆ 349909    ┆ 21.08  ┆ null   ┆ S         │\n",
       "│            ┆            ┆       ┆ Gosta Leonard    ┆   ┆           ┆        ┆        ┆           │\n",
       "└────────────┴────────────┴───────┴──────────────────┴───┴───────────┴────────┴────────┴───────────┘"
      ]
     },
     "execution_count": 8,
     "metadata": {},
     "output_type": "execute_result"
    }
   ],
   "source": [
    "df_titanic.head()"
   ]
  },
  {
   "cell_type": "markdown",
   "metadata": {},
   "source": [
    "### Seleccionando columnas"
   ]
  },
  {
   "cell_type": "code",
   "execution_count": 9,
   "metadata": {},
   "outputs": [
    {
     "data": {
      "text/html": [
       "<div><style>\n",
       ".dataframe > thead > tr,\n",
       ".dataframe > tbody > tr {\n",
       "  text-align: right;\n",
       "  white-space: pre-wrap;\n",
       "}\n",
       "</style>\n",
       "<small>shape: (577, 5)</small><table border=\"1\" class=\"dataframe\"><thead><tr><th>PasajeroID</th><th>Sobrevivio</th><th>Nombre</th><th>Sexo</th><th>Edad</th></tr><tr><td>i64</td><td>i64</td><td>str</td><td>str</td><td>f64</td></tr></thead><tbody><tr><td>1</td><td>0</td><td>&quot;Braund, Mr. Owen Harris&quot;</td><td>&quot;Masculino&quot;</td><td>22.0</td></tr><tr><td>5</td><td>0</td><td>&quot;Allen, Mr. William Henry&quot;</td><td>&quot;Masculino&quot;</td><td>35.0</td></tr><tr><td>6</td><td>0</td><td>&quot;Moran, Mr. James&quot;</td><td>&quot;Masculino&quot;</td><td>null</td></tr><tr><td>7</td><td>0</td><td>&quot;McCarthy, Mr. Timothy J&quot;</td><td>&quot;Masculino&quot;</td><td>54.0</td></tr><tr><td>8</td><td>0</td><td>&quot;Palsson, Master. Gosta Leonard&quot;</td><td>&quot;Masculino&quot;</td><td>2.0</td></tr><tr><td>&hellip;</td><td>&hellip;</td><td>&hellip;</td><td>&hellip;</td><td>&hellip;</td></tr><tr><td>884</td><td>0</td><td>&quot;Banfield, Mr. Frederick James&quot;</td><td>&quot;Masculino&quot;</td><td>28.0</td></tr><tr><td>885</td><td>0</td><td>&quot;Sutehall, Mr. Henry Jr&quot;</td><td>&quot;Masculino&quot;</td><td>25.0</td></tr><tr><td>887</td><td>0</td><td>&quot;Montvila, Rev. Juozas&quot;</td><td>&quot;Masculino&quot;</td><td>27.0</td></tr><tr><td>890</td><td>1</td><td>&quot;Behr, Mr. Karl Howell&quot;</td><td>&quot;Masculino&quot;</td><td>26.0</td></tr><tr><td>891</td><td>0</td><td>&quot;Dooley, Mr. Patrick&quot;</td><td>&quot;Masculino&quot;</td><td>32.0</td></tr></tbody></table></div>"
      ],
      "text/plain": [
       "shape: (577, 5)\n",
       "┌────────────┬────────────┬────────────────────────────────┬───────────┬──────┐\n",
       "│ PasajeroID ┆ Sobrevivio ┆ Nombre                         ┆ Sexo      ┆ Edad │\n",
       "│ ---        ┆ ---        ┆ ---                            ┆ ---       ┆ ---  │\n",
       "│ i64        ┆ i64        ┆ str                            ┆ str       ┆ f64  │\n",
       "╞════════════╪════════════╪════════════════════════════════╪═══════════╪══════╡\n",
       "│ 1          ┆ 0          ┆ Braund, Mr. Owen Harris        ┆ Masculino ┆ 22.0 │\n",
       "│ 5          ┆ 0          ┆ Allen, Mr. William Henry       ┆ Masculino ┆ 35.0 │\n",
       "│ 6          ┆ 0          ┆ Moran, Mr. James               ┆ Masculino ┆ null │\n",
       "│ 7          ┆ 0          ┆ McCarthy, Mr. Timothy J        ┆ Masculino ┆ 54.0 │\n",
       "│ 8          ┆ 0          ┆ Palsson, Master. Gosta Leonard ┆ Masculino ┆ 2.0  │\n",
       "│ …          ┆ …          ┆ …                              ┆ …         ┆ …    │\n",
       "│ 884        ┆ 0          ┆ Banfield, Mr. Frederick James  ┆ Masculino ┆ 28.0 │\n",
       "│ 885        ┆ 0          ┆ Sutehall, Mr. Henry Jr         ┆ Masculino ┆ 25.0 │\n",
       "│ 887        ┆ 0          ┆ Montvila, Rev. Juozas          ┆ Masculino ┆ 27.0 │\n",
       "│ 890        ┆ 1          ┆ Behr, Mr. Karl Howell          ┆ Masculino ┆ 26.0 │\n",
       "│ 891        ┆ 0          ┆ Dooley, Mr. Patrick            ┆ Masculino ┆ 32.0 │\n",
       "└────────────┴────────────┴────────────────────────────────┴───────────┴──────┘"
      ]
     },
     "execution_count": 9,
     "metadata": {},
     "output_type": "execute_result"
    }
   ],
   "source": [
    "df_titanic.select(\n",
    "    # Dos formas de selecionar una columna\n",
    "    pl.col('PasajeroID'),\n",
    "    'Sobrevivio',\n",
    "    pl.col('Nombre'),\n",
    "    pl.col('Sexo'),\n",
    "    pl.col('Edad')\n",
    ")"
   ]
  },
  {
   "cell_type": "markdown",
   "metadata": {},
   "source": [
    "### Cambiar el tipo de datos de texto a fecha"
   ]
  },
  {
   "cell_type": "code",
   "execution_count": 10,
   "metadata": {},
   "outputs": [],
   "source": [
    "df_fecha = pl.DataFrame(\n",
    "    {\n",
    "        \"id\": [1, 2, 3],\n",
    "        \"fecha\": [\"2024-03-01\", \"2024-03-02\", \"2024-03-04\"]\n",
    "    }\n",
    ")"
   ]
  },
  {
   "cell_type": "code",
   "execution_count": 11,
   "metadata": {},
   "outputs": [
    {
     "data": {
      "text/html": [
       "<div><style>\n",
       ".dataframe > thead > tr,\n",
       ".dataframe > tbody > tr {\n",
       "  text-align: right;\n",
       "  white-space: pre-wrap;\n",
       "}\n",
       "</style>\n",
       "<small>shape: (3, 2)</small><table border=\"1\" class=\"dataframe\"><thead><tr><th>id</th><th>fecha</th></tr><tr><td>i64</td><td>str</td></tr></thead><tbody><tr><td>1</td><td>&quot;2024-03-01&quot;</td></tr><tr><td>2</td><td>&quot;2024-03-02&quot;</td></tr><tr><td>3</td><td>&quot;2024-03-04&quot;</td></tr></tbody></table></div>"
      ],
      "text/plain": [
       "shape: (3, 2)\n",
       "┌─────┬────────────┐\n",
       "│ id  ┆ fecha      │\n",
       "│ --- ┆ ---        │\n",
       "│ i64 ┆ str        │\n",
       "╞═════╪════════════╡\n",
       "│ 1   ┆ 2024-03-01 │\n",
       "│ 2   ┆ 2024-03-02 │\n",
       "│ 3   ┆ 2024-03-04 │\n",
       "└─────┴────────────┘"
      ]
     },
     "execution_count": 11,
     "metadata": {},
     "output_type": "execute_result"
    }
   ],
   "source": [
    "df_fecha.head()"
   ]
  },
  {
   "cell_type": "code",
   "execution_count": 12,
   "metadata": {},
   "outputs": [
    {
     "data": {
      "text/html": [
       "<div><style>\n",
       ".dataframe > thead > tr,\n",
       ".dataframe > tbody > tr {\n",
       "  text-align: right;\n",
       "  white-space: pre-wrap;\n",
       "}\n",
       "</style>\n",
       "<small>shape: (3, 2)</small><table border=\"1\" class=\"dataframe\"><thead><tr><th>id</th><th>fecha</th></tr><tr><td>i64</td><td>date</td></tr></thead><tbody><tr><td>1</td><td>2024-03-01</td></tr><tr><td>2</td><td>2024-03-02</td></tr><tr><td>3</td><td>2024-03-04</td></tr></tbody></table></div>"
      ],
      "text/plain": [
       "shape: (3, 2)\n",
       "┌─────┬────────────┐\n",
       "│ id  ┆ fecha      │\n",
       "│ --- ┆ ---        │\n",
       "│ i64 ┆ date       │\n",
       "╞═════╪════════════╡\n",
       "│ 1   ┆ 2024-03-01 │\n",
       "│ 2   ┆ 2024-03-02 │\n",
       "│ 3   ┆ 2024-03-04 │\n",
       "└─────┴────────────┘"
      ]
     },
     "execution_count": 12,
     "metadata": {},
     "output_type": "execute_result"
    }
   ],
   "source": [
    "df_fecha.select(\n",
    "    pl.col('id'),\n",
    "    pl.col(\"fecha\").cast(pl.Date)\n",
    ")"
   ]
  },
  {
   "cell_type": "markdown",
   "metadata": {},
   "source": [
    "### Eliminar duplicados"
   ]
  },
  {
   "cell_type": "code",
   "execution_count": 28,
   "metadata": {},
   "outputs": [
    {
     "data": {
      "text/html": [
       "<div><style>\n",
       ".dataframe > thead > tr,\n",
       ".dataframe > tbody > tr {\n",
       "  text-align: right;\n",
       "  white-space: pre-wrap;\n",
       "}\n",
       "</style>\n",
       "<small>shape: (577, 11)</small><table border=\"1\" class=\"dataframe\"><thead><tr><th>PasajeroID</th><th>Sobrevivio</th><th>Clase</th><th>Nombre</th><th>Sexo</th><th>Edad</th><th>Familiares</th><th>Tiquete</th><th>Tarifa</th><th>Cabina</th><th>Embarcado</th></tr><tr><td>i64</td><td>i64</td><td>i64</td><td>str</td><td>str</td><td>f64</td><td>i64</td><td>str</td><td>f64</td><td>str</td><td>str</td></tr></thead><tbody><tr><td>6</td><td>0</td><td>3</td><td>&quot;Moran, Mr. James&quot;</td><td>&quot;Masculino&quot;</td><td>null</td><td>0</td><td>&quot;330877&quot;</td><td>8.46</td><td>null</td><td>&quot;Q&quot;</td></tr><tr><td>18</td><td>1</td><td>2</td><td>&quot;Williams, Mr. Charles Eugene&quot;</td><td>&quot;Masculino&quot;</td><td>null</td><td>0</td><td>&quot;244373&quot;</td><td>13.0</td><td>null</td><td>&quot;S&quot;</td></tr><tr><td>27</td><td>0</td><td>3</td><td>&quot;Emir, Mr. Farred Chehab&quot;</td><td>&quot;Masculino&quot;</td><td>null</td><td>0</td><td>&quot;2631&quot;</td><td>7.23</td><td>null</td><td>&quot;C&quot;</td></tr><tr><td>30</td><td>0</td><td>3</td><td>&quot;Todoroff, Mr. Lalio&quot;</td><td>&quot;Masculino&quot;</td><td>null</td><td>0</td><td>&quot;349216&quot;</td><td>7.9</td><td>null</td><td>&quot;S&quot;</td></tr><tr><td>37</td><td>1</td><td>3</td><td>&quot;Mamee, Mr. Hanna&quot;</td><td>&quot;Masculino&quot;</td><td>null</td><td>0</td><td>&quot;2677&quot;</td><td>7.23</td><td>null</td><td>&quot;C&quot;</td></tr><tr><td>&hellip;</td><td>&hellip;</td><td>&hellip;</td><td>&hellip;</td><td>&hellip;</td><td>&hellip;</td><td>&hellip;</td><td>&hellip;</td><td>&hellip;</td><td>&hellip;</td><td>&hellip;</td></tr><tr><td>117</td><td>0</td><td>3</td><td>&quot;Connors, Mr. Patrick&quot;</td><td>&quot;Masculino&quot;</td><td>70.5</td><td>0</td><td>&quot;370369&quot;</td><td>7.75</td><td>null</td><td>&quot;Q&quot;</td></tr><tr><td>97</td><td>0</td><td>1</td><td>&quot;Goldschmidt, Mr. George B&quot;</td><td>&quot;Masculino&quot;</td><td>71.0</td><td>0</td><td>&quot;PC 17754&quot;</td><td>34.65</td><td>&quot;A5&quot;</td><td>&quot;C&quot;</td></tr><tr><td>494</td><td>0</td><td>1</td><td>&quot;Artagaveytia, Mr. Ramon&quot;</td><td>&quot;Masculino&quot;</td><td>71.0</td><td>0</td><td>&quot;PC 17609&quot;</td><td>49.5</td><td>null</td><td>&quot;C&quot;</td></tr><tr><td>852</td><td>0</td><td>3</td><td>&quot;Svensson, Mr. Johan&quot;</td><td>&quot;Masculino&quot;</td><td>74.0</td><td>0</td><td>&quot;347060&quot;</td><td>7.78</td><td>null</td><td>&quot;S&quot;</td></tr><tr><td>631</td><td>1</td><td>1</td><td>&quot;Barkworth, Mr. Algernon Henry Wilson&quot;</td><td>&quot;Masculino&quot;</td><td>80.0</td><td>0</td><td>&quot;27042&quot;</td><td>30.0</td><td>&quot;A23&quot;</td><td>&quot;S&quot;</td></tr></tbody></table></div>"
      ],
      "text/plain": [
       "shape: (577, 11)\n",
       "┌────────────┬────────────┬───────┬───────────────────┬───┬──────────┬────────┬────────┬───────────┐\n",
       "│ PasajeroID ┆ Sobrevivio ┆ Clase ┆ Nombre            ┆ … ┆ Tiquete  ┆ Tarifa ┆ Cabina ┆ Embarcado │\n",
       "│ ---        ┆ ---        ┆ ---   ┆ ---               ┆   ┆ ---      ┆ ---    ┆ ---    ┆ ---       │\n",
       "│ i64        ┆ i64        ┆ i64   ┆ str               ┆   ┆ str      ┆ f64    ┆ str    ┆ str       │\n",
       "╞════════════╪════════════╪═══════╪═══════════════════╪═══╪══════════╪════════╪════════╪═══════════╡\n",
       "│ 6          ┆ 0          ┆ 3     ┆ Moran, Mr. James  ┆ … ┆ 330877   ┆ 8.46   ┆ null   ┆ Q         │\n",
       "│ 18         ┆ 1          ┆ 2     ┆ Williams, Mr.     ┆ … ┆ 244373   ┆ 13.0   ┆ null   ┆ S         │\n",
       "│            ┆            ┆       ┆ Charles Eugene    ┆   ┆          ┆        ┆        ┆           │\n",
       "│ 27         ┆ 0          ┆ 3     ┆ Emir, Mr. Farred  ┆ … ┆ 2631     ┆ 7.23   ┆ null   ┆ C         │\n",
       "│            ┆            ┆       ┆ Chehab            ┆   ┆          ┆        ┆        ┆           │\n",
       "│ 30         ┆ 0          ┆ 3     ┆ Todoroff, Mr.     ┆ … ┆ 349216   ┆ 7.9    ┆ null   ┆ S         │\n",
       "│            ┆            ┆       ┆ Lalio             ┆   ┆          ┆        ┆        ┆           │\n",
       "│ 37         ┆ 1          ┆ 3     ┆ Mamee, Mr. Hanna  ┆ … ┆ 2677     ┆ 7.23   ┆ null   ┆ C         │\n",
       "│ …          ┆ …          ┆ …     ┆ …                 ┆ … ┆ …        ┆ …      ┆ …      ┆ …         │\n",
       "│ 117        ┆ 0          ┆ 3     ┆ Connors, Mr.      ┆ … ┆ 370369   ┆ 7.75   ┆ null   ┆ Q         │\n",
       "│            ┆            ┆       ┆ Patrick           ┆   ┆          ┆        ┆        ┆           │\n",
       "│ 97         ┆ 0          ┆ 1     ┆ Goldschmidt, Mr.  ┆ … ┆ PC 17754 ┆ 34.65  ┆ A5     ┆ C         │\n",
       "│            ┆            ┆       ┆ George B          ┆   ┆          ┆        ┆        ┆           │\n",
       "│ 494        ┆ 0          ┆ 1     ┆ Artagaveytia, Mr. ┆ … ┆ PC 17609 ┆ 49.5   ┆ null   ┆ C         │\n",
       "│            ┆            ┆       ┆ Ramon             ┆   ┆          ┆        ┆        ┆           │\n",
       "│ 852        ┆ 0          ┆ 3     ┆ Svensson, Mr.     ┆ … ┆ 347060   ┆ 7.78   ┆ null   ┆ S         │\n",
       "│            ┆            ┆       ┆ Johan             ┆   ┆          ┆        ┆        ┆           │\n",
       "│ 631        ┆ 1          ┆ 1     ┆ Barkworth, Mr.    ┆ … ┆ 27042    ┆ 30.0   ┆ A23    ┆ S         │\n",
       "│            ┆            ┆       ┆ Algernon Henry    ┆   ┆          ┆        ┆        ┆           │\n",
       "│            ┆            ┆       ┆ Wilson            ┆   ┆          ┆        ┆        ┆           │\n",
       "└────────────┴────────────┴───────┴───────────────────┴───┴──────────┴────────┴────────┴───────────┘"
      ]
     },
     "execution_count": 28,
     "metadata": {},
     "output_type": "execute_result"
    }
   ],
   "source": [
    "# Ordenar las columnas\n",
    "df_titanic.sort(\n",
    "    [pl.col('Edad')]\n",
    ").unique(pl.col('PasajeroID'), keep='last', maintain_order= True) # Eliminar los duplicados y que columnas quieres que sea unico"
   ]
  },
  {
   "cell_type": "markdown",
   "metadata": {},
   "source": [
    "### Diviendo columnas por delimitador"
   ]
  },
  {
   "cell_type": "code",
   "execution_count": 29,
   "metadata": {},
   "outputs": [],
   "source": [
    "df_ubicacion = pl.DataFrame(\n",
    "    {\n",
    "        \"ubicacion\": [\"CHORRILLOS-1002\", \"SURCO-3001\", \"LIMA-2020\"]\n",
    "    }\n",
    ")"
   ]
  },
  {
   "cell_type": "code",
   "execution_count": 31,
   "metadata": {},
   "outputs": [
    {
     "data": {
      "text/html": [
       "<div><style>\n",
       ".dataframe > thead > tr,\n",
       ".dataframe > tbody > tr {\n",
       "  text-align: right;\n",
       "  white-space: pre-wrap;\n",
       "}\n",
       "</style>\n",
       "<small>shape: (3, 3)</small><table border=\"1\" class=\"dataframe\"><thead><tr><th>ubicacion</th><th>Agencia</th><th>AgenciaID</th></tr><tr><td>str</td><td>str</td><td>str</td></tr></thead><tbody><tr><td>&quot;CHORRILLOS-1002&quot;</td><td>&quot;CHORRILLOS&quot;</td><td>&quot;1002&quot;</td></tr><tr><td>&quot;SURCO-3001&quot;</td><td>&quot;SURCO&quot;</td><td>&quot;3001&quot;</td></tr><tr><td>&quot;LIMA-2020&quot;</td><td>&quot;LIMA&quot;</td><td>&quot;2020&quot;</td></tr></tbody></table></div>"
      ],
      "text/plain": [
       "shape: (3, 3)\n",
       "┌─────────────────┬────────────┬───────────┐\n",
       "│ ubicacion       ┆ Agencia    ┆ AgenciaID │\n",
       "│ ---             ┆ ---        ┆ ---       │\n",
       "│ str             ┆ str        ┆ str       │\n",
       "╞═════════════════╪════════════╪═══════════╡\n",
       "│ CHORRILLOS-1002 ┆ CHORRILLOS ┆ 1002      │\n",
       "│ SURCO-3001      ┆ SURCO      ┆ 3001      │\n",
       "│ LIMA-2020       ┆ LIMA       ┆ 2020      │\n",
       "└─────────────────┴────────────┴───────────┘"
      ]
     },
     "execution_count": 31,
     "metadata": {},
     "output_type": "execute_result"
    }
   ],
   "source": [
    "# renombrar la columna\n",
    "df_ubicacion.with_columns(\n",
    "    pl.col('ubicacion')\n",
    "    .str.split_exact('-', 1) #se va a separar el primero delimitador que tenga -\n",
    "    .struct.rename_fields([\"Agencia\", \"AgenciaID\"])\n",
    "    .alias('nueva columna')\n",
    ").unnest('nueva columna') #separa los campos"
   ]
  },
  {
   "cell_type": "markdown",
   "metadata": {},
   "source": [
    "## Cosas avanzadas con polars"
   ]
  },
  {
   "cell_type": "code",
   "execution_count": 34,
   "metadata": {},
   "outputs": [
    {
     "name": "stdout",
     "output_type": "stream",
     "text": [
      "Collecting fastexcel\n",
      "  Downloading fastexcel-0.13.0-cp39-abi3-win_amd64.whl.metadata (3.5 kB)\n",
      "Collecting pyarrow>=8.0.0 (from fastexcel)\n",
      "  Downloading pyarrow-19.0.1-cp312-cp312-win_amd64.whl.metadata (3.4 kB)\n",
      "Downloading fastexcel-0.13.0-cp39-abi3-win_amd64.whl (1.1 MB)\n",
      "   ---------------------------------------- 0.0/1.1 MB ? eta -:--:--\n",
      "   ---------------------------------------- 0.0/1.1 MB ? eta -:--:--\n",
      "   ---------------------------------------- 0.0/1.1 MB ? eta -:--:--\n",
      "   ---------------------------------------- 0.0/1.1 MB ? eta -:--:--\n",
      "   --------- ------------------------------ 0.3/1.1 MB ? eta -:--:--\n",
      "   --------- ------------------------------ 0.3/1.1 MB ? eta -:--:--\n",
      "   ------------------- -------------------- 0.5/1.1 MB 541.6 kB/s eta 0:00:01\n",
      "   ------------------- -------------------- 0.5/1.1 MB 541.6 kB/s eta 0:00:01\n",
      "   ----------------------------- ---------- 0.8/1.1 MB 541.6 kB/s eta 0:00:01\n",
      "   ---------------------------------------  1.0/1.1 MB 621.7 kB/s eta 0:00:01\n",
      "   ---------------------------------------- 1.1/1.1 MB 612.3 kB/s eta 0:00:00\n",
      "Downloading pyarrow-19.0.1-cp312-cp312-win_amd64.whl (25.3 MB)\n",
      "   ---------------------------------------- 0.0/25.3 MB ? eta -:--:--\n",
      "   ---------------------------------------- 0.0/25.3 MB ? eta -:--:--\n",
      "   ---------------------------------------- 0.0/25.3 MB ? eta -:--:--\n",
      "   ---------------------------------------- 0.3/25.3 MB ? eta -:--:--\n",
      "    --------------------------------------- 0.5/25.3 MB 882.6 kB/s eta 0:00:29\n",
      "    --------------------------------------- 0.5/25.3 MB 882.6 kB/s eta 0:00:29\n",
      "   - -------------------------------------- 0.8/25.3 MB 729.2 kB/s eta 0:00:34\n",
      "   - -------------------------------------- 0.8/25.3 MB 729.2 kB/s eta 0:00:34\n",
      "   - -------------------------------------- 1.0/25.3 MB 662.0 kB/s eta 0:00:37\n",
      "   --- ------------------------------------ 2.1/25.3 MB 1.2 MB/s eta 0:00:19\n",
      "   ---- ----------------------------------- 2.6/25.3 MB 1.4 MB/s eta 0:00:16\n",
      "   ---- ----------------------------------- 2.9/25.3 MB 1.5 MB/s eta 0:00:16\n",
      "   ----- ---------------------------------- 3.4/25.3 MB 1.6 MB/s eta 0:00:14\n",
      "   ------ --------------------------------- 3.9/25.3 MB 1.6 MB/s eta 0:00:14\n",
      "   ------- -------------------------------- 4.5/25.3 MB 1.7 MB/s eta 0:00:13\n",
      "   ------- -------------------------------- 5.0/25.3 MB 1.8 MB/s eta 0:00:12\n",
      "   --------- ------------------------------ 5.8/25.3 MB 1.9 MB/s eta 0:00:11\n",
      "   --------- ------------------------------ 6.3/25.3 MB 1.9 MB/s eta 0:00:10\n",
      "   --------- ------------------------------ 6.3/25.3 MB 1.9 MB/s eta 0:00:10\n",
      "   ---------- ----------------------------- 6.8/25.3 MB 1.8 MB/s eta 0:00:10\n",
      "   ----------- ---------------------------- 7.3/25.3 MB 1.9 MB/s eta 0:00:10\n",
      "   ------------ --------------------------- 8.1/25.3 MB 1.9 MB/s eta 0:00:09\n",
      "   ------------- -------------------------- 8.7/25.3 MB 2.0 MB/s eta 0:00:09\n",
      "   -------------- ------------------------- 9.2/25.3 MB 2.0 MB/s eta 0:00:08\n",
      "   --------------- ------------------------ 9.7/25.3 MB 2.1 MB/s eta 0:00:08\n",
      "   ---------------- ----------------------- 10.5/25.3 MB 2.1 MB/s eta 0:00:07\n",
      "   ----------------- ---------------------- 11.0/25.3 MB 2.1 MB/s eta 0:00:07\n",
      "   ------------------ --------------------- 11.8/25.3 MB 2.2 MB/s eta 0:00:07\n",
      "   ------------------- -------------------- 12.3/25.3 MB 2.2 MB/s eta 0:00:06\n",
      "   -------------------- ------------------- 12.8/25.3 MB 2.2 MB/s eta 0:00:06\n",
      "   --------------------- ------------------ 13.4/25.3 MB 2.2 MB/s eta 0:00:06\n",
      "   ---------------------- ----------------- 14.2/25.3 MB 2.3 MB/s eta 0:00:05\n",
      "   ----------------------- ---------------- 14.7/25.3 MB 2.3 MB/s eta 0:00:05\n",
      "   ------------------------ --------------- 15.2/25.3 MB 2.3 MB/s eta 0:00:05\n",
      "   ------------------------- -------------- 16.0/25.3 MB 2.3 MB/s eta 0:00:04\n",
      "   -------------------------- ------------- 16.5/25.3 MB 2.3 MB/s eta 0:00:04\n",
      "   -------------------------- ------------- 17.0/25.3 MB 2.3 MB/s eta 0:00:04\n",
      "   ---------------------------- ----------- 17.8/25.3 MB 2.4 MB/s eta 0:00:04\n",
      "   ----------------------------- ---------- 18.4/25.3 MB 2.4 MB/s eta 0:00:03\n",
      "   ------------------------------ --------- 19.1/25.3 MB 2.4 MB/s eta 0:00:03\n",
      "   ------------------------------ --------- 19.1/25.3 MB 2.4 MB/s eta 0:00:03\n",
      "   ------------------------------ --------- 19.4/25.3 MB 2.3 MB/s eta 0:00:03\n",
      "   ------------------------------- -------- 19.7/25.3 MB 2.3 MB/s eta 0:00:03\n",
      "   ------------------------------- -------- 20.2/25.3 MB 2.3 MB/s eta 0:00:03\n",
      "   --------------------------------- ------ 21.0/25.3 MB 2.3 MB/s eta 0:00:02\n",
      "   ---------------------------------- ----- 21.5/25.3 MB 2.3 MB/s eta 0:00:02\n",
      "   ---------------------------------- ----- 22.0/25.3 MB 2.3 MB/s eta 0:00:02\n",
      "   ----------------------------------- ---- 22.5/25.3 MB 2.3 MB/s eta 0:00:02\n",
      "   ------------------------------------ --- 23.1/25.3 MB 2.3 MB/s eta 0:00:01\n",
      "   ------------------------------------- -- 23.6/25.3 MB 2.3 MB/s eta 0:00:01\n",
      "   -------------------------------------- - 24.4/25.3 MB 2.4 MB/s eta 0:00:01\n",
      "   ---------------------------------------  25.2/25.3 MB 2.4 MB/s eta 0:00:01\n",
      "   ---------------------------------------  25.2/25.3 MB 2.4 MB/s eta 0:00:01\n",
      "   ---------------------------------------- 25.3/25.3 MB 2.3 MB/s eta 0:00:00\n",
      "Installing collected packages: pyarrow, fastexcel\n",
      "Successfully installed fastexcel-0.13.0 pyarrow-19.0.1\n",
      "Note: you may need to restart the kernel to use updated packages.\n"
     ]
    },
    {
     "name": "stderr",
     "output_type": "stream",
     "text": [
      "\n",
      "[notice] A new release of pip is available: 24.2 -> 25.0.1\n",
      "[notice] To update, run: python.exe -m pip install --upgrade pip\n"
     ]
    }
   ],
   "source": [
    "%pip install fastexcel"
   ]
  },
  {
   "cell_type": "code",
   "execution_count": 67,
   "metadata": {},
   "outputs": [],
   "source": [
    "Titanic = (\n",
    "    # lo transforma todo a csv para que sea más facil de leer\n",
    "    pl.read_excel('./data/Titanic/titanic.xlsx', sheet_name=\"Pasajeros_1\", infer_schema_length=0)\n",
    "    .select(\n",
    "        pl.col(\"Id_Pasajero\").cast(pl.Int64),\n",
    "        pl.col(\"Survived\").cast(pl.Int64),\n",
    "        pl.col(\"Clase\").cast(pl.Int64),\n",
    "        pl.col(\"Nombre\").cast(pl.String),\n",
    "        pl.col(\"Sexo\").cast(pl.String),\n",
    "        pl.col(\"Edad\").cast(pl.Float64).fill_null(12.0).replace(float(\"nan\"), 12.0),\n",
    "        pl.col(\"Cabina\").cast(pl.String).fill_null('Otros').str.to_uppercase()\n",
    "    )\n",
    ")\n",
    "# str.replace_many solo funciona en tipo de datos string"
   ]
  },
  {
   "cell_type": "code",
   "execution_count": 68,
   "metadata": {},
   "outputs": [
    {
     "data": {
      "text/html": [
       "<div><style>\n",
       ".dataframe > thead > tr,\n",
       ".dataframe > tbody > tr {\n",
       "  text-align: right;\n",
       "  white-space: pre-wrap;\n",
       "}\n",
       "</style>\n",
       "<small>shape: (30, 7)</small><table border=\"1\" class=\"dataframe\"><thead><tr><th>Id_Pasajero</th><th>Survived</th><th>Clase</th><th>Nombre</th><th>Sexo</th><th>Edad</th><th>Cabina</th></tr><tr><td>i64</td><td>i64</td><td>i64</td><td>str</td><td>str</td><td>f64</td><td>str</td></tr></thead><tbody><tr><td>1</td><td>0</td><td>3</td><td>&quot;Braund, Mr. Owen Harris&quot;</td><td>&quot;Masculino&quot;</td><td>22.0</td><td>&quot;OTROS&quot;</td></tr><tr><td>2</td><td>1</td><td>1</td><td>&quot;Cumings, Mrs. John Bradley (Florence Briggs Thayer…</td><td>&quot;Femenino&quot;</td><td>38.0</td><td>&quot;C85&quot;</td></tr><tr><td>3</td><td>1</td><td>3</td><td>&quot;Heikkinen, Miss. Laina&quot;</td><td>&quot;Femenino&quot;</td><td>26.0</td><td>&quot;OTROS&quot;</td></tr><tr><td>4</td><td>1</td><td>1</td><td>&quot;Futrelle, Mrs. Jacques Heath (Lily May Peel)&quot;</td><td>&quot;Femenino&quot;</td><td>35.0</td><td>&quot;C123&quot;</td></tr><tr><td>5</td><td>0</td><td>3</td><td>&quot;Allen, Mr. William Henry&quot;</td><td>&quot;Masculino&quot;</td><td>35.0</td><td>&quot;OTROS&quot;</td></tr><tr><td>&hellip;</td><td>&hellip;</td><td>&hellip;</td><td>&hellip;</td><td>&hellip;</td><td>&hellip;</td><td>&hellip;</td></tr><tr><td>26</td><td>1</td><td>3</td><td>&quot;Asplund, Mrs. Carl Oscar (Selma Augusta Emilia Joh…</td><td>&quot;Femenino&quot;</td><td>38.0</td><td>&quot;OTROS&quot;</td></tr><tr><td>27</td><td>0</td><td>3</td><td>&quot;Emir, Mr. Farred Chehab&quot;</td><td>&quot;Masculino&quot;</td><td>12.0</td><td>&quot;OTROS&quot;</td></tr><tr><td>28</td><td>0</td><td>1</td><td>&quot;Fortune, Mr. Charles Alexander&quot;</td><td>&quot;Masculino&quot;</td><td>19.0</td><td>&quot;C23 C25 C27&quot;</td></tr><tr><td>29</td><td>1</td><td>3</td><td>&quot;O&#x27;Dwyer, Miss. Ellen &quot;Nellie&quot;&quot;</td><td>&quot;Femenino&quot;</td><td>12.0</td><td>&quot;OTROS&quot;</td></tr><tr><td>30</td><td>0</td><td>3</td><td>&quot;Todoroff, Mr. Lalio&quot;</td><td>&quot;Masculino&quot;</td><td>12.0</td><td>&quot;OTROS&quot;</td></tr></tbody></table></div>"
      ],
      "text/plain": [
       "shape: (30, 7)\n",
       "┌─────────────┬──────────┬───────┬────────────────────────────────┬───────────┬──────┬─────────────┐\n",
       "│ Id_Pasajero ┆ Survived ┆ Clase ┆ Nombre                         ┆ Sexo      ┆ Edad ┆ Cabina      │\n",
       "│ ---         ┆ ---      ┆ ---   ┆ ---                            ┆ ---       ┆ ---  ┆ ---         │\n",
       "│ i64         ┆ i64      ┆ i64   ┆ str                            ┆ str       ┆ f64  ┆ str         │\n",
       "╞═════════════╪══════════╪═══════╪════════════════════════════════╪═══════════╪══════╪═════════════╡\n",
       "│ 1           ┆ 0        ┆ 3     ┆ Braund, Mr. Owen Harris        ┆ Masculino ┆ 22.0 ┆ OTROS       │\n",
       "│ 2           ┆ 1        ┆ 1     ┆ Cumings, Mrs. John Bradley     ┆ Femenino  ┆ 38.0 ┆ C85         │\n",
       "│             ┆          ┆       ┆ (Florence Briggs Thayer…       ┆           ┆      ┆             │\n",
       "│ 3           ┆ 1        ┆ 3     ┆ Heikkinen, Miss. Laina         ┆ Femenino  ┆ 26.0 ┆ OTROS       │\n",
       "│ 4           ┆ 1        ┆ 1     ┆ Futrelle, Mrs. Jacques Heath   ┆ Femenino  ┆ 35.0 ┆ C123        │\n",
       "│             ┆          ┆       ┆ (Lily May Peel)                ┆           ┆      ┆             │\n",
       "│ 5           ┆ 0        ┆ 3     ┆ Allen, Mr. William Henry       ┆ Masculino ┆ 35.0 ┆ OTROS       │\n",
       "│ …           ┆ …        ┆ …     ┆ …                              ┆ …         ┆ …    ┆ …           │\n",
       "│ 26          ┆ 1        ┆ 3     ┆ Asplund, Mrs. Carl Oscar       ┆ Femenino  ┆ 38.0 ┆ OTROS       │\n",
       "│             ┆          ┆       ┆ (Selma Augusta Emilia Joh…     ┆           ┆      ┆             │\n",
       "│ 27          ┆ 0        ┆ 3     ┆ Emir, Mr. Farred Chehab        ┆ Masculino ┆ 12.0 ┆ OTROS       │\n",
       "│ 28          ┆ 0        ┆ 1     ┆ Fortune, Mr. Charles Alexander ┆ Masculino ┆ 19.0 ┆ C23 C25 C27 │\n",
       "│ 29          ┆ 1        ┆ 3     ┆ O'Dwyer, Miss. Ellen \"Nellie\"  ┆ Femenino  ┆ 12.0 ┆ OTROS       │\n",
       "│ 30          ┆ 0        ┆ 3     ┆ Todoroff, Mr. Lalio            ┆ Masculino ┆ 12.0 ┆ OTROS       │\n",
       "└─────────────┴──────────┴───────┴────────────────────────────────┴───────────┴──────┴─────────────┘"
      ]
     },
     "execution_count": 68,
     "metadata": {},
     "output_type": "execute_result"
    }
   ],
   "source": [
    "Titanic.head(30)"
   ]
  },
  {
   "cell_type": "markdown",
   "metadata": {},
   "source": [
    "### Exportar los datos"
   ]
  },
  {
   "cell_type": "code",
   "execution_count": 70,
   "metadata": {},
   "outputs": [
    {
     "name": "stdout",
     "output_type": "stream",
     "text": [
      "Collecting xlsxwriter\n",
      "  Downloading XlsxWriter-3.2.2-py3-none-any.whl.metadata (2.8 kB)\n",
      "Downloading XlsxWriter-3.2.2-py3-none-any.whl (165 kB)\n",
      "Installing collected packages: xlsxwriter\n",
      "Successfully installed xlsxwriter-3.2.2\n",
      "Note: you may need to restart the kernel to use updated packages.\n"
     ]
    },
    {
     "name": "stderr",
     "output_type": "stream",
     "text": [
      "\n",
      "[notice] A new release of pip is available: 24.2 -> 25.0.1\n",
      "[notice] To update, run: python.exe -m pip install --upgrade pip\n"
     ]
    }
   ],
   "source": [
    "%pip install xlsxwriter"
   ]
  },
  {
   "cell_type": "code",
   "execution_count": 71,
   "metadata": {},
   "outputs": [
    {
     "data": {
      "text/plain": [
       "<xlsxwriter.workbook.Workbook at 0x209bf896120>"
      ]
     },
     "execution_count": 71,
     "metadata": {},
     "output_type": "execute_result"
    }
   ],
   "source": [
    "Titanic.write_excel(\n",
    "    workbook='./data/Export/titanic_final.xlsx',\n",
    "    worksheet='Pasajeros',\n",
    "    table_style='Table Style Medium 2',\n",
    "#     dtype_formats={pl.Date: \"mm/dd/yyyy\"}\n",
    "\tfloat_precision=2, # Precision de decimales cuanto va a tener\n",
    "    autofit=True # Para el encabezado del excel\n",
    ")"
   ]
  }
 ],
 "metadata": {
  "kernelspec": {
   "display_name": "venv",
   "language": "python",
   "name": "python3"
  },
  "language_info": {
   "codemirror_mode": {
    "name": "ipython",
    "version": 3
   },
   "file_extension": ".py",
   "mimetype": "text/x-python",
   "name": "python",
   "nbconvert_exporter": "python",
   "pygments_lexer": "ipython3",
   "version": "3.12.5"
  }
 },
 "nbformat": 4,
 "nbformat_minor": 2
}
